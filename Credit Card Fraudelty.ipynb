{
 "cells": [
  {
   "cell_type": "markdown",
   "id": "694dbb42",
   "metadata": {},
   "source": [
    "# Imports"
   ]
  },
  {
   "cell_type": "code",
   "execution_count": 1,
   "id": "dffadfd1",
   "metadata": {},
   "outputs": [],
   "source": [
    "import pandas as pd\n",
    "import matplotlib.pyplot as plt\n",
    "from scipy.cluster.hierarchy import dendrogram, linkage\n",
    "from sklearn.cluster import AgglomerativeClustering\n",
    "from sklearn import metrics\n",
    "from sklearn.metrics import confusion_matrix, ConfusionMatrixDisplay\n",
    "from sklearn_extra.cluster import KMedoids\n",
    "import numpy as np"
   ]
  },
  {
   "cell_type": "markdown",
   "id": "22e1b292",
   "metadata": {},
   "source": [
    "# Data"
   ]
  },
  {
   "cell_type": "code",
   "execution_count": 2,
   "id": "e05181d6",
   "metadata": {
    "scrolled": true
   },
   "outputs": [
    {
     "data": {
      "text/html": [
       "<div>\n",
       "<style scoped>\n",
       "    .dataframe tbody tr th:only-of-type {\n",
       "        vertical-align: middle;\n",
       "    }\n",
       "\n",
       "    .dataframe tbody tr th {\n",
       "        vertical-align: top;\n",
       "    }\n",
       "\n",
       "    .dataframe thead th {\n",
       "        text-align: right;\n",
       "    }\n",
       "</style>\n",
       "<table border=\"1\" class=\"dataframe\">\n",
       "  <thead>\n",
       "    <tr style=\"text-align: right;\">\n",
       "      <th></th>\n",
       "      <th>Merchant_id</th>\n",
       "      <th>Transaction date</th>\n",
       "      <th>Average Amount/transaction/day</th>\n",
       "      <th>Transaction_amount</th>\n",
       "      <th>Is declined</th>\n",
       "      <th>Total Number of declines/day</th>\n",
       "      <th>isForeignTransaction</th>\n",
       "      <th>isHighRiskCountry</th>\n",
       "      <th>Daily_chargeback_avg_amt</th>\n",
       "      <th>6_month_avg_chbk_amt</th>\n",
       "      <th>6-month_chbk_freq</th>\n",
       "      <th>isFradulent</th>\n",
       "    </tr>\n",
       "  </thead>\n",
       "  <tbody>\n",
       "    <tr>\n",
       "      <th>0</th>\n",
       "      <td>3160040998</td>\n",
       "      <td>NaN</td>\n",
       "      <td>100.0</td>\n",
       "      <td>3000.0</td>\n",
       "      <td>N</td>\n",
       "      <td>5</td>\n",
       "      <td>Y</td>\n",
       "      <td>Y</td>\n",
       "      <td>0</td>\n",
       "      <td>0.0</td>\n",
       "      <td>0</td>\n",
       "      <td>Y</td>\n",
       "    </tr>\n",
       "    <tr>\n",
       "      <th>1</th>\n",
       "      <td>3160040998</td>\n",
       "      <td>NaN</td>\n",
       "      <td>100.0</td>\n",
       "      <td>4300.0</td>\n",
       "      <td>N</td>\n",
       "      <td>5</td>\n",
       "      <td>Y</td>\n",
       "      <td>Y</td>\n",
       "      <td>0</td>\n",
       "      <td>0.0</td>\n",
       "      <td>0</td>\n",
       "      <td>Y</td>\n",
       "    </tr>\n",
       "    <tr>\n",
       "      <th>2</th>\n",
       "      <td>3160041896</td>\n",
       "      <td>NaN</td>\n",
       "      <td>185.5</td>\n",
       "      <td>4823.0</td>\n",
       "      <td>Y</td>\n",
       "      <td>5</td>\n",
       "      <td>N</td>\n",
       "      <td>N</td>\n",
       "      <td>0</td>\n",
       "      <td>0.0</td>\n",
       "      <td>0</td>\n",
       "      <td>Y</td>\n",
       "    </tr>\n",
       "    <tr>\n",
       "      <th>3</th>\n",
       "      <td>3160141996</td>\n",
       "      <td>NaN</td>\n",
       "      <td>185.5</td>\n",
       "      <td>5008.5</td>\n",
       "      <td>Y</td>\n",
       "      <td>8</td>\n",
       "      <td>N</td>\n",
       "      <td>N</td>\n",
       "      <td>0</td>\n",
       "      <td>0.0</td>\n",
       "      <td>0</td>\n",
       "      <td>Y</td>\n",
       "    </tr>\n",
       "    <tr>\n",
       "      <th>4</th>\n",
       "      <td>3160241992</td>\n",
       "      <td>NaN</td>\n",
       "      <td>500.0</td>\n",
       "      <td>26000.0</td>\n",
       "      <td>N</td>\n",
       "      <td>0</td>\n",
       "      <td>Y</td>\n",
       "      <td>Y</td>\n",
       "      <td>800</td>\n",
       "      <td>677.2</td>\n",
       "      <td>6</td>\n",
       "      <td>Y</td>\n",
       "    </tr>\n",
       "  </tbody>\n",
       "</table>\n",
       "</div>"
      ],
      "text/plain": [
       "   Merchant_id  Transaction date  Average Amount/transaction/day  \\\n",
       "0   3160040998               NaN                           100.0   \n",
       "1   3160040998               NaN                           100.0   \n",
       "2   3160041896               NaN                           185.5   \n",
       "3   3160141996               NaN                           185.5   \n",
       "4   3160241992               NaN                           500.0   \n",
       "\n",
       "   Transaction_amount Is declined  Total Number of declines/day  \\\n",
       "0              3000.0           N                             5   \n",
       "1              4300.0           N                             5   \n",
       "2              4823.0           Y                             5   \n",
       "3              5008.5           Y                             8   \n",
       "4             26000.0           N                             0   \n",
       "\n",
       "  isForeignTransaction isHighRiskCountry  Daily_chargeback_avg_amt  \\\n",
       "0                    Y                 Y                         0   \n",
       "1                    Y                 Y                         0   \n",
       "2                    N                 N                         0   \n",
       "3                    N                 N                         0   \n",
       "4                    Y                 Y                       800   \n",
       "\n",
       "   6_month_avg_chbk_amt  6-month_chbk_freq isFradulent  \n",
       "0                   0.0                  0           Y  \n",
       "1                   0.0                  0           Y  \n",
       "2                   0.0                  0           Y  \n",
       "3                   0.0                  0           Y  \n",
       "4                 677.2                  6           Y  "
      ]
     },
     "execution_count": 2,
     "metadata": {},
     "output_type": "execute_result"
    }
   ],
   "source": [
    "data = pd.read_csv(r\"creditcardcsvpresent.csv\")\n",
    "data.head()"
   ]
  },
  {
   "cell_type": "markdown",
   "id": "0fb097e9",
   "metadata": {},
   "source": [
    "## Data Cleaning"
   ]
  },
  {
   "cell_type": "code",
   "execution_count": 3,
   "id": "326bf68c",
   "metadata": {},
   "outputs": [
    {
     "data": {
      "text/plain": [
       "Merchant_id                          0\n",
       "Transaction date                  3075\n",
       "Average Amount/transaction/day       0\n",
       "Transaction_amount                   0\n",
       "Is declined                          0\n",
       "Total Number of declines/day         0\n",
       "isForeignTransaction                 0\n",
       "isHighRiskCountry                    0\n",
       "Daily_chargeback_avg_amt             0\n",
       "6_month_avg_chbk_amt                 0\n",
       "6-month_chbk_freq                    0\n",
       "isFradulent                          0\n",
       "dtype: int64"
      ]
     },
     "execution_count": 3,
     "metadata": {},
     "output_type": "execute_result"
    }
   ],
   "source": [
    "data.isnull().sum()"
   ]
  },
  {
   "cell_type": "code",
   "execution_count": 4,
   "id": "df99c325",
   "metadata": {},
   "outputs": [
    {
     "data": {
      "text/plain": [
       "<bound method DataFrame.info of       Merchant_id  Transaction date  Average Amount/transaction/day  \\\n",
       "0      3160040998               NaN                           100.0   \n",
       "1      3160040998               NaN                           100.0   \n",
       "2      3160041896               NaN                           185.5   \n",
       "3      3160141996               NaN                           185.5   \n",
       "4      3160241992               NaN                           500.0   \n",
       "...           ...               ...                             ...   \n",
       "3070   6661273532               NaN                           500.0   \n",
       "3071   6661273532               NaN                           800.0   \n",
       "3072   6661273533               NaN                           800.0   \n",
       "3073   6661273532               NaN                          1500.0   \n",
       "3074   6661273533               NaN                          1500.0   \n",
       "\n",
       "      Transaction_amount Is declined  Total Number of declines/day  \\\n",
       "0                 3000.0           N                             5   \n",
       "1                 4300.0           N                             5   \n",
       "2                 4823.0           Y                             5   \n",
       "3                 5008.5           Y                             8   \n",
       "4                26000.0           N                             0   \n",
       "...                  ...         ...                           ...   \n",
       "3070             11000.0           Y                             0   \n",
       "3071                 0.0           Y                             0   \n",
       "3072             20800.0           Y                             0   \n",
       "3073             12000.0           Y                             0   \n",
       "3074             36000.0           Y                             0   \n",
       "\n",
       "     isForeignTransaction isHighRiskCountry  Daily_chargeback_avg_amt  \\\n",
       "0                       Y                 Y                         0   \n",
       "1                       Y                 Y                         0   \n",
       "2                       N                 N                         0   \n",
       "3                       N                 N                         0   \n",
       "4                       Y                 Y                       800   \n",
       "...                   ...               ...                       ...   \n",
       "3070                    N                 N                       754   \n",
       "3071                    N                 N                       754   \n",
       "3072                    N                 N                       754   \n",
       "3073                    Y                 Y                       754   \n",
       "3074                    Y                 Y                       754   \n",
       "\n",
       "      6_month_avg_chbk_amt  6-month_chbk_freq isFradulent  \n",
       "0                      0.0                  0           Y  \n",
       "1                      0.0                  0           Y  \n",
       "2                      0.0                  0           Y  \n",
       "3                      0.0                  0           Y  \n",
       "4                    677.2                  6           Y  \n",
       "...                    ...                ...         ...  \n",
       "3070                 585.0                  7           N  \n",
       "3071                 585.0                  7           N  \n",
       "3072                 585.0                  7           N  \n",
       "3073                 585.0                  7           N  \n",
       "3074                 585.0                  7           N  \n",
       "\n",
       "[3075 rows x 12 columns]>"
      ]
     },
     "execution_count": 4,
     "metadata": {},
     "output_type": "execute_result"
    }
   ],
   "source": [
    "data.info"
   ]
  },
  {
   "cell_type": "code",
   "execution_count": 5,
   "id": "dcb22921",
   "metadata": {
    "scrolled": true
   },
   "outputs": [
    {
     "data": {
      "text/html": [
       "<div>\n",
       "<style scoped>\n",
       "    .dataframe tbody tr th:only-of-type {\n",
       "        vertical-align: middle;\n",
       "    }\n",
       "\n",
       "    .dataframe tbody tr th {\n",
       "        vertical-align: top;\n",
       "    }\n",
       "\n",
       "    .dataframe thead th {\n",
       "        text-align: right;\n",
       "    }\n",
       "</style>\n",
       "<table border=\"1\" class=\"dataframe\">\n",
       "  <thead>\n",
       "    <tr style=\"text-align: right;\">\n",
       "      <th></th>\n",
       "      <th>Average Amount/transaction/day</th>\n",
       "      <th>Transaction_amount</th>\n",
       "      <th>Is declined</th>\n",
       "      <th>Total Number of declines/day</th>\n",
       "      <th>isForeignTransaction</th>\n",
       "      <th>isHighRiskCountry</th>\n",
       "      <th>Daily_chargeback_avg_amt</th>\n",
       "      <th>6_month_avg_chbk_amt</th>\n",
       "      <th>6-month_chbk_freq</th>\n",
       "      <th>isFradulent</th>\n",
       "    </tr>\n",
       "  </thead>\n",
       "  <tbody>\n",
       "    <tr>\n",
       "      <th>0</th>\n",
       "      <td>100.0</td>\n",
       "      <td>3000.0</td>\n",
       "      <td>0</td>\n",
       "      <td>5</td>\n",
       "      <td>1</td>\n",
       "      <td>1</td>\n",
       "      <td>0</td>\n",
       "      <td>0.0</td>\n",
       "      <td>0</td>\n",
       "      <td>1</td>\n",
       "    </tr>\n",
       "    <tr>\n",
       "      <th>1</th>\n",
       "      <td>100.0</td>\n",
       "      <td>4300.0</td>\n",
       "      <td>0</td>\n",
       "      <td>5</td>\n",
       "      <td>1</td>\n",
       "      <td>1</td>\n",
       "      <td>0</td>\n",
       "      <td>0.0</td>\n",
       "      <td>0</td>\n",
       "      <td>1</td>\n",
       "    </tr>\n",
       "    <tr>\n",
       "      <th>2</th>\n",
       "      <td>185.5</td>\n",
       "      <td>4823.0</td>\n",
       "      <td>1</td>\n",
       "      <td>5</td>\n",
       "      <td>0</td>\n",
       "      <td>0</td>\n",
       "      <td>0</td>\n",
       "      <td>0.0</td>\n",
       "      <td>0</td>\n",
       "      <td>1</td>\n",
       "    </tr>\n",
       "    <tr>\n",
       "      <th>3</th>\n",
       "      <td>185.5</td>\n",
       "      <td>5008.5</td>\n",
       "      <td>1</td>\n",
       "      <td>8</td>\n",
       "      <td>0</td>\n",
       "      <td>0</td>\n",
       "      <td>0</td>\n",
       "      <td>0.0</td>\n",
       "      <td>0</td>\n",
       "      <td>1</td>\n",
       "    </tr>\n",
       "    <tr>\n",
       "      <th>4</th>\n",
       "      <td>500.0</td>\n",
       "      <td>26000.0</td>\n",
       "      <td>0</td>\n",
       "      <td>0</td>\n",
       "      <td>1</td>\n",
       "      <td>1</td>\n",
       "      <td>800</td>\n",
       "      <td>677.2</td>\n",
       "      <td>6</td>\n",
       "      <td>1</td>\n",
       "    </tr>\n",
       "    <tr>\n",
       "      <th>...</th>\n",
       "      <td>...</td>\n",
       "      <td>...</td>\n",
       "      <td>...</td>\n",
       "      <td>...</td>\n",
       "      <td>...</td>\n",
       "      <td>...</td>\n",
       "      <td>...</td>\n",
       "      <td>...</td>\n",
       "      <td>...</td>\n",
       "      <td>...</td>\n",
       "    </tr>\n",
       "    <tr>\n",
       "      <th>3070</th>\n",
       "      <td>500.0</td>\n",
       "      <td>11000.0</td>\n",
       "      <td>1</td>\n",
       "      <td>0</td>\n",
       "      <td>0</td>\n",
       "      <td>0</td>\n",
       "      <td>754</td>\n",
       "      <td>585.0</td>\n",
       "      <td>7</td>\n",
       "      <td>0</td>\n",
       "    </tr>\n",
       "    <tr>\n",
       "      <th>3071</th>\n",
       "      <td>800.0</td>\n",
       "      <td>0.0</td>\n",
       "      <td>1</td>\n",
       "      <td>0</td>\n",
       "      <td>0</td>\n",
       "      <td>0</td>\n",
       "      <td>754</td>\n",
       "      <td>585.0</td>\n",
       "      <td>7</td>\n",
       "      <td>0</td>\n",
       "    </tr>\n",
       "    <tr>\n",
       "      <th>3072</th>\n",
       "      <td>800.0</td>\n",
       "      <td>20800.0</td>\n",
       "      <td>1</td>\n",
       "      <td>0</td>\n",
       "      <td>0</td>\n",
       "      <td>0</td>\n",
       "      <td>754</td>\n",
       "      <td>585.0</td>\n",
       "      <td>7</td>\n",
       "      <td>0</td>\n",
       "    </tr>\n",
       "    <tr>\n",
       "      <th>3073</th>\n",
       "      <td>1500.0</td>\n",
       "      <td>12000.0</td>\n",
       "      <td>1</td>\n",
       "      <td>0</td>\n",
       "      <td>1</td>\n",
       "      <td>1</td>\n",
       "      <td>754</td>\n",
       "      <td>585.0</td>\n",
       "      <td>7</td>\n",
       "      <td>0</td>\n",
       "    </tr>\n",
       "    <tr>\n",
       "      <th>3074</th>\n",
       "      <td>1500.0</td>\n",
       "      <td>36000.0</td>\n",
       "      <td>1</td>\n",
       "      <td>0</td>\n",
       "      <td>1</td>\n",
       "      <td>1</td>\n",
       "      <td>754</td>\n",
       "      <td>585.0</td>\n",
       "      <td>7</td>\n",
       "      <td>0</td>\n",
       "    </tr>\n",
       "  </tbody>\n",
       "</table>\n",
       "<p>3075 rows × 10 columns</p>\n",
       "</div>"
      ],
      "text/plain": [
       "      Average Amount/transaction/day  Transaction_amount  Is declined  \\\n",
       "0                              100.0              3000.0            0   \n",
       "1                              100.0              4300.0            0   \n",
       "2                              185.5              4823.0            1   \n",
       "3                              185.5              5008.5            1   \n",
       "4                              500.0             26000.0            0   \n",
       "...                              ...                 ...          ...   \n",
       "3070                           500.0             11000.0            1   \n",
       "3071                           800.0                 0.0            1   \n",
       "3072                           800.0             20800.0            1   \n",
       "3073                          1500.0             12000.0            1   \n",
       "3074                          1500.0             36000.0            1   \n",
       "\n",
       "      Total Number of declines/day  isForeignTransaction  isHighRiskCountry  \\\n",
       "0                                5                     1                  1   \n",
       "1                                5                     1                  1   \n",
       "2                                5                     0                  0   \n",
       "3                                8                     0                  0   \n",
       "4                                0                     1                  1   \n",
       "...                            ...                   ...                ...   \n",
       "3070                             0                     0                  0   \n",
       "3071                             0                     0                  0   \n",
       "3072                             0                     0                  0   \n",
       "3073                             0                     1                  1   \n",
       "3074                             0                     1                  1   \n",
       "\n",
       "      Daily_chargeback_avg_amt  6_month_avg_chbk_amt  6-month_chbk_freq  \\\n",
       "0                            0                   0.0                  0   \n",
       "1                            0                   0.0                  0   \n",
       "2                            0                   0.0                  0   \n",
       "3                            0                   0.0                  0   \n",
       "4                          800                 677.2                  6   \n",
       "...                        ...                   ...                ...   \n",
       "3070                       754                 585.0                  7   \n",
       "3071                       754                 585.0                  7   \n",
       "3072                       754                 585.0                  7   \n",
       "3073                       754                 585.0                  7   \n",
       "3074                       754                 585.0                  7   \n",
       "\n",
       "      isFradulent  \n",
       "0               1  \n",
       "1               1  \n",
       "2               1  \n",
       "3               1  \n",
       "4               1  \n",
       "...           ...  \n",
       "3070            0  \n",
       "3071            0  \n",
       "3072            0  \n",
       "3073            0  \n",
       "3074            0  \n",
       "\n",
       "[3075 rows x 10 columns]"
      ]
     },
     "execution_count": 5,
     "metadata": {},
     "output_type": "execute_result"
    }
   ],
   "source": [
    "data = data.drop(['Transaction date','Merchant_id'],axis = 1)\n",
    "data = data.replace(\"Y\",1)\n",
    "data = data.replace(\"N\",0)\n",
    "data"
   ]
  },
  {
   "cell_type": "markdown",
   "id": "172c46e2",
   "metadata": {},
   "source": [
    "## Train and Test Splitting"
   ]
  },
  {
   "cell_type": "code",
   "execution_count": 6,
   "id": "1ff4ca16",
   "metadata": {},
   "outputs": [
    {
     "data": {
      "text/html": [
       "<div>\n",
       "<style scoped>\n",
       "    .dataframe tbody tr th:only-of-type {\n",
       "        vertical-align: middle;\n",
       "    }\n",
       "\n",
       "    .dataframe tbody tr th {\n",
       "        vertical-align: top;\n",
       "    }\n",
       "\n",
       "    .dataframe thead th {\n",
       "        text-align: right;\n",
       "    }\n",
       "</style>\n",
       "<table border=\"1\" class=\"dataframe\">\n",
       "  <thead>\n",
       "    <tr style=\"text-align: right;\">\n",
       "      <th></th>\n",
       "      <th>Average Amount/transaction/day</th>\n",
       "      <th>Transaction_amount</th>\n",
       "      <th>Is declined</th>\n",
       "      <th>Total Number of declines/day</th>\n",
       "      <th>isForeignTransaction</th>\n",
       "      <th>isHighRiskCountry</th>\n",
       "      <th>Daily_chargeback_avg_amt</th>\n",
       "      <th>6_month_avg_chbk_amt</th>\n",
       "      <th>6-month_chbk_freq</th>\n",
       "    </tr>\n",
       "  </thead>\n",
       "  <tbody>\n",
       "    <tr>\n",
       "      <th>0</th>\n",
       "      <td>100.0</td>\n",
       "      <td>3000.0</td>\n",
       "      <td>0</td>\n",
       "      <td>5</td>\n",
       "      <td>1</td>\n",
       "      <td>1</td>\n",
       "      <td>0</td>\n",
       "      <td>0.0</td>\n",
       "      <td>0</td>\n",
       "    </tr>\n",
       "    <tr>\n",
       "      <th>1</th>\n",
       "      <td>100.0</td>\n",
       "      <td>4300.0</td>\n",
       "      <td>0</td>\n",
       "      <td>5</td>\n",
       "      <td>1</td>\n",
       "      <td>1</td>\n",
       "      <td>0</td>\n",
       "      <td>0.0</td>\n",
       "      <td>0</td>\n",
       "    </tr>\n",
       "    <tr>\n",
       "      <th>2</th>\n",
       "      <td>185.5</td>\n",
       "      <td>4823.0</td>\n",
       "      <td>1</td>\n",
       "      <td>5</td>\n",
       "      <td>0</td>\n",
       "      <td>0</td>\n",
       "      <td>0</td>\n",
       "      <td>0.0</td>\n",
       "      <td>0</td>\n",
       "    </tr>\n",
       "    <tr>\n",
       "      <th>3</th>\n",
       "      <td>185.5</td>\n",
       "      <td>5008.5</td>\n",
       "      <td>1</td>\n",
       "      <td>8</td>\n",
       "      <td>0</td>\n",
       "      <td>0</td>\n",
       "      <td>0</td>\n",
       "      <td>0.0</td>\n",
       "      <td>0</td>\n",
       "    </tr>\n",
       "    <tr>\n",
       "      <th>4</th>\n",
       "      <td>500.0</td>\n",
       "      <td>26000.0</td>\n",
       "      <td>0</td>\n",
       "      <td>0</td>\n",
       "      <td>1</td>\n",
       "      <td>1</td>\n",
       "      <td>800</td>\n",
       "      <td>677.2</td>\n",
       "      <td>6</td>\n",
       "    </tr>\n",
       "    <tr>\n",
       "      <th>...</th>\n",
       "      <td>...</td>\n",
       "      <td>...</td>\n",
       "      <td>...</td>\n",
       "      <td>...</td>\n",
       "      <td>...</td>\n",
       "      <td>...</td>\n",
       "      <td>...</td>\n",
       "      <td>...</td>\n",
       "      <td>...</td>\n",
       "    </tr>\n",
       "    <tr>\n",
       "      <th>3070</th>\n",
       "      <td>500.0</td>\n",
       "      <td>11000.0</td>\n",
       "      <td>1</td>\n",
       "      <td>0</td>\n",
       "      <td>0</td>\n",
       "      <td>0</td>\n",
       "      <td>754</td>\n",
       "      <td>585.0</td>\n",
       "      <td>7</td>\n",
       "    </tr>\n",
       "    <tr>\n",
       "      <th>3071</th>\n",
       "      <td>800.0</td>\n",
       "      <td>0.0</td>\n",
       "      <td>1</td>\n",
       "      <td>0</td>\n",
       "      <td>0</td>\n",
       "      <td>0</td>\n",
       "      <td>754</td>\n",
       "      <td>585.0</td>\n",
       "      <td>7</td>\n",
       "    </tr>\n",
       "    <tr>\n",
       "      <th>3072</th>\n",
       "      <td>800.0</td>\n",
       "      <td>20800.0</td>\n",
       "      <td>1</td>\n",
       "      <td>0</td>\n",
       "      <td>0</td>\n",
       "      <td>0</td>\n",
       "      <td>754</td>\n",
       "      <td>585.0</td>\n",
       "      <td>7</td>\n",
       "    </tr>\n",
       "    <tr>\n",
       "      <th>3073</th>\n",
       "      <td>1500.0</td>\n",
       "      <td>12000.0</td>\n",
       "      <td>1</td>\n",
       "      <td>0</td>\n",
       "      <td>1</td>\n",
       "      <td>1</td>\n",
       "      <td>754</td>\n",
       "      <td>585.0</td>\n",
       "      <td>7</td>\n",
       "    </tr>\n",
       "    <tr>\n",
       "      <th>3074</th>\n",
       "      <td>1500.0</td>\n",
       "      <td>36000.0</td>\n",
       "      <td>1</td>\n",
       "      <td>0</td>\n",
       "      <td>1</td>\n",
       "      <td>1</td>\n",
       "      <td>754</td>\n",
       "      <td>585.0</td>\n",
       "      <td>7</td>\n",
       "    </tr>\n",
       "  </tbody>\n",
       "</table>\n",
       "<p>3075 rows × 9 columns</p>\n",
       "</div>"
      ],
      "text/plain": [
       "      Average Amount/transaction/day  Transaction_amount  Is declined  \\\n",
       "0                              100.0              3000.0            0   \n",
       "1                              100.0              4300.0            0   \n",
       "2                              185.5              4823.0            1   \n",
       "3                              185.5              5008.5            1   \n",
       "4                              500.0             26000.0            0   \n",
       "...                              ...                 ...          ...   \n",
       "3070                           500.0             11000.0            1   \n",
       "3071                           800.0                 0.0            1   \n",
       "3072                           800.0             20800.0            1   \n",
       "3073                          1500.0             12000.0            1   \n",
       "3074                          1500.0             36000.0            1   \n",
       "\n",
       "      Total Number of declines/day  isForeignTransaction  isHighRiskCountry  \\\n",
       "0                                5                     1                  1   \n",
       "1                                5                     1                  1   \n",
       "2                                5                     0                  0   \n",
       "3                                8                     0                  0   \n",
       "4                                0                     1                  1   \n",
       "...                            ...                   ...                ...   \n",
       "3070                             0                     0                  0   \n",
       "3071                             0                     0                  0   \n",
       "3072                             0                     0                  0   \n",
       "3073                             0                     1                  1   \n",
       "3074                             0                     1                  1   \n",
       "\n",
       "      Daily_chargeback_avg_amt  6_month_avg_chbk_amt  6-month_chbk_freq  \n",
       "0                            0                   0.0                  0  \n",
       "1                            0                   0.0                  0  \n",
       "2                            0                   0.0                  0  \n",
       "3                            0                   0.0                  0  \n",
       "4                          800                 677.2                  6  \n",
       "...                        ...                   ...                ...  \n",
       "3070                       754                 585.0                  7  \n",
       "3071                       754                 585.0                  7  \n",
       "3072                       754                 585.0                  7  \n",
       "3073                       754                 585.0                  7  \n",
       "3074                       754                 585.0                  7  \n",
       "\n",
       "[3075 rows x 9 columns]"
      ]
     },
     "execution_count": 6,
     "metadata": {},
     "output_type": "execute_result"
    }
   ],
   "source": [
    "x = data.iloc[:,:-1]\n",
    "y= data.iloc[:,-1]\n",
    "x"
   ]
  },
  {
   "cell_type": "markdown",
   "id": "03177cb6",
   "metadata": {},
   "source": [
    "# Agglomerative"
   ]
  },
  {
   "cell_type": "code",
   "execution_count": 7,
   "id": "d1b72fd7",
   "metadata": {},
   "outputs": [],
   "source": [
    "hc = AgglomerativeClustering(linkage=\"single\", n_clusters = 2 ).fit(x)\n",
    "y_ = hc.labels_"
   ]
  },
  {
   "cell_type": "code",
   "execution_count": 8,
   "id": "573d3631",
   "metadata": {},
   "outputs": [
    {
     "data": {
      "image/png": "[encoded data removed]",
      "text/plain": [
       "<Figure size 1000x1000 with 1 Axes>"
      ]
     },
     "metadata": {},
     "output_type": "display_data"
    }
   ],
   "source": [
    "# define linkage \n",
    "linked = linkage(x.sample(n=20, random_state=1), 'single')\n",
    "\n",
    "# set figure size\n",
    "plt.figure(figsize=(10, 10))\n",
    "\n",
    "# dendrogram function \n",
    "dendrogram(linked,\n",
    "            orientation='top')\n",
    "\n",
    "# axis labels\n",
    "plt.title(\"Dendrogram\")\n",
    "plt.ylabel(\"Dissimalirty\")\n",
    "plt.xlabel(\"Data points\")\n",
    "\n",
    "plt.show()"
   ]
  },
  {
   "cell_type": "code",
   "execution_count": 9,
   "id": "e8c8a79d",
   "metadata": {},
   "outputs": [
    {
     "name": "stdout",
     "output_type": "stream",
     "text": [
      "The accuracy of Agglomerative: 85.5 %\n"
     ]
    }
   ],
   "source": [
    "print (\"The accuracy of Agglomerative:\", round(metrics.accuracy_score ( y , y_ )*100,2),\"%\", sep=\" \" )"
   ]
  },
  {
   "cell_type": "code",
   "execution_count": 10,
   "id": "77838616",
   "metadata": {},
   "outputs": [
    {
     "data": {
      "image/png": "[encoded data removed]",
      "text/plain": [
       "<Figure size 640x480 with 2 Axes>"
      ]
     },
     "metadata": {},
     "output_type": "display_data"
    }
   ],
   "source": [
    "cm = confusion_matrix( y , y_)\n",
    "disp = ConfusionMatrixDisplay(confusion_matrix=cm, display_labels=[\"positive\",\"negative\"])\n",
    "disp.plot()\n",
    "plt.title(\"Confusion matrix of Agglomerative Clustering\")\n",
    "plt.show()"
   ]
  },
  {
   "cell_type": "code",
   "execution_count": 11,
   "id": "4d749cab",
   "metadata": {},
   "outputs": [],
   "source": [
    "dict= {'predcited by algorithm': y_,\n",
    "      'actual': y }"
   ]
  },
  {
   "cell_type": "code",
   "execution_count": 12,
   "id": "be7210f9",
   "metadata": {},
   "outputs": [
    {
     "data": {
      "text/html": [
       "<div>\n",
       "<style scoped>\n",
       "    .dataframe tbody tr th:only-of-type {\n",
       "        vertical-align: middle;\n",
       "    }\n",
       "\n",
       "    .dataframe tbody tr th {\n",
       "        vertical-align: top;\n",
       "    }\n",
       "\n",
       "    .dataframe thead th {\n",
       "        text-align: right;\n",
       "    }\n",
       "</style>\n",
       "<table border=\"1\" class=\"dataframe\">\n",
       "  <thead>\n",
       "    <tr style=\"text-align: right;\">\n",
       "      <th></th>\n",
       "      <th>predcited by algorithm</th>\n",
       "      <th>actual</th>\n",
       "    </tr>\n",
       "  </thead>\n",
       "  <tbody>\n",
       "    <tr>\n",
       "      <th>943</th>\n",
       "      <td>0</td>\n",
       "      <td>0</td>\n",
       "    </tr>\n",
       "    <tr>\n",
       "      <th>984</th>\n",
       "      <td>0</td>\n",
       "      <td>0</td>\n",
       "    </tr>\n",
       "    <tr>\n",
       "      <th>3065</th>\n",
       "      <td>0</td>\n",
       "      <td>0</td>\n",
       "    </tr>\n",
       "    <tr>\n",
       "      <th>2725</th>\n",
       "      <td>0</td>\n",
       "      <td>0</td>\n",
       "    </tr>\n",
       "    <tr>\n",
       "      <th>288</th>\n",
       "      <td>0</td>\n",
       "      <td>1</td>\n",
       "    </tr>\n",
       "    <tr>\n",
       "      <th>...</th>\n",
       "      <td>...</td>\n",
       "      <td>...</td>\n",
       "    </tr>\n",
       "    <tr>\n",
       "      <th>709</th>\n",
       "      <td>0</td>\n",
       "      <td>0</td>\n",
       "    </tr>\n",
       "    <tr>\n",
       "      <th>355</th>\n",
       "      <td>0</td>\n",
       "      <td>1</td>\n",
       "    </tr>\n",
       "    <tr>\n",
       "      <th>2208</th>\n",
       "      <td>0</td>\n",
       "      <td>0</td>\n",
       "    </tr>\n",
       "    <tr>\n",
       "      <th>1196</th>\n",
       "      <td>0</td>\n",
       "      <td>0</td>\n",
       "    </tr>\n",
       "    <tr>\n",
       "      <th>1828</th>\n",
       "      <td>0</td>\n",
       "      <td>0</td>\n",
       "    </tr>\n",
       "  </tbody>\n",
       "</table>\n",
       "<p>3075 rows × 2 columns</p>\n",
       "</div>"
      ],
      "text/plain": [
       "      predcited by algorithm  actual\n",
       "943                        0       0\n",
       "984                        0       0\n",
       "3065                       0       0\n",
       "2725                       0       0\n",
       "288                        0       1\n",
       "...                      ...     ...\n",
       "709                        0       0\n",
       "355                        0       1\n",
       "2208                       0       0\n",
       "1196                       0       0\n",
       "1828                       0       0\n",
       "\n",
       "[3075 rows x 2 columns]"
      ]
     },
     "execution_count": 12,
     "metadata": {},
     "output_type": "execute_result"
    }
   ],
   "source": [
    "showcase = pd.DataFrame(dict)\n",
    "showcase.sample(frac=1)"
   ]
  },
  {
   "cell_type": "code",
   "execution_count": 13,
   "id": "681ac425",
   "metadata": {},
   "outputs": [
    {
     "name": "stdout",
     "output_type": "stream",
     "text": [
      "399\n",
      "406\n"
     ]
    }
   ],
   "source": [
    "for i in range(len(y_)):\n",
    "    if y_[i] ==1:\n",
    "        print(i)\n",
    "    elif y_[i] ==2:\n",
    "        print(i, \"other\")\n",
    "    elif y_[i] ==3:\n",
    "        print(i, \"other1\")"
   ]
  },
  {
   "cell_type": "markdown",
   "id": "ba0150c5",
   "metadata": {},
   "source": [
    "# K-Medoids"
   ]
  },
  {
   "cell_type": "code",
   "execution_count": 14,
   "id": "a6565cd0",
   "metadata": {},
   "outputs": [],
   "source": [
    "kmedoids = KMedoids(n_clusters=2).fit(x)"
   ]
  },
  {
   "cell_type": "code",
   "execution_count": 15,
   "id": "159519c3",
   "metadata": {},
   "outputs": [
    {
     "data": {
      "text/plain": [
       "array([1, 1, 1, ..., 0, 0, 0], dtype=int64)"
      ]
     },
     "execution_count": 15,
     "metadata": {},
     "output_type": "execute_result"
    }
   ],
   "source": [
    "labels = kmedoids.labels_\n",
    "labels"
   ]
  },
  {
   "cell_type": "code",
   "execution_count": 16,
   "id": "e0c77326",
   "metadata": {},
   "outputs": [
    {
     "data": {
      "text/plain": [
       "array([[6.90703944e+02, 1.72675986e+04, 0.00000000e+00, 2.00000000e+00,\n",
       "        1.00000000e+00, 0.00000000e+00, 0.00000000e+00, 0.00000000e+00,\n",
       "        0.00000000e+00],\n",
       "       [3.66440856e+02, 3.29796770e+03, 0.00000000e+00, 0.00000000e+00,\n",
       "        0.00000000e+00, 0.00000000e+00, 0.00000000e+00, 0.00000000e+00,\n",
       "        0.00000000e+00]])"
      ]
     },
     "execution_count": 16,
     "metadata": {},
     "output_type": "execute_result"
    }
   ],
   "source": [
    "kmedoids.cluster_centers_"
   ]
  },
  {
   "cell_type": "code",
   "execution_count": 17,
   "id": "4b3fee9f",
   "metadata": {
    "scrolled": true
   },
   "outputs": [
    {
     "data": {
      "text/plain": [
       "{0, 1}"
      ]
     },
     "execution_count": 17,
     "metadata": {},
     "output_type": "execute_result"
    }
   ],
   "source": [
    "unq_lab = set(labels)\n",
    "unq_lab"
   ]
  },
  {
   "cell_type": "code",
   "execution_count": 18,
   "id": "c0f6b77e",
   "metadata": {},
   "outputs": [
    {
     "data": {
      "text/plain": [
       "array([1, 1, 1, ..., 0, 0, 0], dtype=int64)"
      ]
     },
     "execution_count": 18,
     "metadata": {},
     "output_type": "execute_result"
    }
   ],
   "source": [
    "y_kmed = kmedoids.fit_predict(x)\n",
    "y_kmed"
   ]
  },
  {
   "cell_type": "code",
   "execution_count": 19,
   "id": "cb587b6f",
   "metadata": {
    "scrolled": true
   },
   "outputs": [
    {
     "data": {
      "image/png": "[encoded data removed]",
      "text/plain": [
       "<Figure size 640x480 with 1 Axes>"
      ]
     },
     "metadata": {},
     "output_type": "display_data"
    }
   ],
   "source": [
    "x = x.values\n",
    "plt.scatter(x[y_kmed == 0, 0], x[y_kmed == 0, 1], s = 100, c = 'red', label = 'Not Fraud')\n",
    "plt.scatter(x[y_kmed == 1, 0], x[y_kmed == 1, 1], s = 100, c = 'blue', label = 'Fraud')\n",
    "plt.scatter(kmedoids.cluster_centers_[:, 0], kmedoids.cluster_centers_[:,1], s = 100, c = 'yellow', label = 'Centroids')\n",
    "plt.legend()\n",
    "plt.show()"
   ]
  },
  {
   "cell_type": "code",
   "execution_count": 20,
   "id": "fed6ff31",
   "metadata": {},
   "outputs": [
    {
     "name": "stdout",
     "output_type": "stream",
     "text": [
      "The accuracy of K-Medoids: 28.98 %\n"
     ]
    }
   ],
   "source": [
    "print (\"The accuracy of K-Medoids:\", round(metrics.accuracy_score ( y , y_kmed )*100,2),\"%\", sep=\" \" )"
   ]
  },
  {
   "cell_type": "code",
   "execution_count": 21,
   "id": "6d43229d",
   "metadata": {},
   "outputs": [
    {
     "data": {
      "image/png": "[encoded data removed]",
      "text/plain": [
       "<Figure size 640x480 with 2 Axes>"
      ]
     },
     "metadata": {},
     "output_type": "display_data"
    }
   ],
   "source": [
    "cm = confusion_matrix( y , y_kmed)\n",
    "disp = ConfusionMatrixDisplay(confusion_matrix=cm, display_labels=[\"positive\", \"negative\"])\n",
    "disp.plot()\n",
    "plt.title(\"Confusion matrix of K-Medoids\")\n",
    "plt.show()"
   ]
  },
  {
   "cell_type": "markdown",
   "id": "f04883cc",
   "metadata": {},
   "source": [
    "# Naive Bayes "
   ]
  },
  {
   "cell_type": "code",
   "execution_count": 22,
   "id": "36c3bbb8",
   "metadata": {},
   "outputs": [
    {
     "ename": "NameError",
     "evalue": "name 'train_test_split' is not defined",
     "output_type": "error",
     "traceback": [
      "\u001b[1;31m---------------------------------------------------------------------------\u001b[0m",
      "\u001b[1;31mNameError\u001b[0m                                 Traceback (most recent call last)",
      "Cell \u001b[1;32mIn[22], line 1\u001b[0m\n\u001b[1;32m----> 1\u001b[0m X_train , x_test , y_train , y_test \u001b[38;5;241m=\u001b[39m \u001b[43mtrain_test_split\u001b[49m ( data ,y , test_size \u001b[38;5;241m=\u001b[39m \u001b[38;5;241m0.30\u001b[39m , random_state \u001b[38;5;241m=\u001b[39m \u001b[38;5;241m100\u001b[39m )\n",
      "\u001b[1;31mNameError\u001b[0m: name 'train_test_split' is not defined"
     ]
    }
   ],
   "source": [
    "\n",
    "X_train , x_test , y_train , y_test = train_test_split ( data ,y , test_size = 0.30 , random_state = 100 )"
   ]
  },
  {
   "cell_type": "code",
   "execution_count": null,
   "id": "17674ecc",
   "metadata": {},
   "outputs": [
    {
     "name": "stdout",
     "output_type": "stream",
     "text": [
      "[0 0 1 0 0 0 1 0 0 0 0 0 0 0 1 0 0 0 1 0 0 0 0 0 1 1 0 0 0 1 0 0 1 0 0 0 0\n",
      " 0 0 0 0 0 1 1 0 0 0 0 1 1 0 1 0 0 0 1 0 0 0 0 0 0 0 0 1 0 0 0 0 1 1 1 0 0\n",
      " 1 0 0 0 0 1 0 0 0 0 0 0 1 0 0 0 0 0 0 1 0 0 1 0 0 0 0 1 1 0 0 0 0 0 0 0 0\n",
      " 0 0 0 0 0 0 0 0 0 0 0 0 0 0 0 0 0 0 0 0 0 0 0 0 0 0 0 0 0 0 0 0 0 0 0 0 1\n",
      " 0 0 0 0 0 0 0 1 0 0 0 1 1 0 0 1 0 0 0 0 0 0 0 0 0 0 0 0 0 0 0 0 0 1 0 0 1\n",
      " 1 1 1 0 1 0 0 0 0 0 1 0 0 0 0 0 0 0 1 0 1 0 0 0 0 0 0 0 0 1 0 0 0 0 0 1 0\n",
      " 0 0 0 0 0 0 0 0 0 0 0 0 0 0 0 0 0 0 1 0 0 0 0 0 0 0 1 0 1 1 0 0 1 0 0 0 0\n",
      " 0 0 1 0 0 0 0 0 0 0 1 0 0 0 0 0 0 0 0 1 0 1 0 0 0 0 0 0 0 0 0 0 0 0 0 0 0\n",
      " 1 1 0 1 0 1 0 0 0 1 0 0 0 0 1 0 0 0 0 0 0 1 1 1 0 0 0 0 0 1 0 0 0 0 0 0 0\n",
      " 0 0 0 0 0 0 0 0 0 0 0 1 0 0 0 0 1 0 0 0 0 0 1 1 1 0 0 0 0 1 0 0 1 0 0 0 1\n",
      " 1 0 0 0 1 0 0 0 0 0 0 0 0 0 0 0 0 0 0 0 0 0 0 0 1 0 0 0 0 0 0 0 1 0 0 0 1\n",
      " 0 1 0 0 0 0 0 0 0 0 0 0 0 0 0 0 0 0 0 0 0 0 0 0 0 0 0 0 0 0 0 1 0 0 0 0 0\n",
      " 0 0 0 0 1 0 0 1 0 0 0 0 0 0 0 0 0 0 1 0 0 0 0 0 0 0 0 0 1 0 0 0 0 0 1 0 0\n",
      " 0 1 0 0 0 0 0 1 0 1 0 0 0 1 0 1 1 0 0 0 0 0 0 0 0 0 0 0 1 0 0 0 0 0 0 1 0\n",
      " 0 0 0 0 0 1 0 0 0 0 0 0 1 0 0 0 0 0 0 1 0 0 0 0 1 0 0 0 0 0 0 0 0 1 0 1 0\n",
      " 0 0 0 0 1 0 0 0 0 0 1 1 0 0 0 0 0 0 0 0 0 0 0 0 0 0 0 0 0 0 1 1 1 0 0 0 0\n",
      " 0 0 0 0 0 0 0 0 0 0 0 1 0 0 1 0 0 0 0 0 1 1 0 0 0 0 0 0 0 1 0 1 0 0 0 0 0\n",
      " 1 0 0 0 0 0 0 0 1 1 0 0 0 0 0 0 0 0 0 0 0 0 1 0 0 0 0 0 1 0 0 0 0 0 0 0 0\n",
      " 0 0 0 0 0 0 1 1 0 1 0 0 0 0 0 0 0 0 1 1 0 0 0 0 0 0 0 0 0 0 0 0 0 0 0 0 1\n",
      " 0 0 0 0 0 0 0 0 0 0 1 0 0 0 0 0 0 1 0 0 1 0 0 0 0 1 0 0 0 1 0 1 0 1 0 1 1\n",
      " 0 0 0 0 1 0 0 0 1 0 0 0 0 0 1 1 0 1 0 1 0 0 0 1 1 0 0 0 0 0 1 0 0 1 0 1 0\n",
      " 0 1 1 0 0 1 0 0 0 0 1 0 0 0 0 0 0 0 0 0 0 0 0 0 0 0 0 0 0 0 1 0 0 0 0 0 0\n",
      " 0 0 0 0 0 0 0 0 0 0 0 0 1 0 0 0 1 0 0 0 0 0 0 0 1 0 1 0 0 0 0 0 0 0 0 0 1\n",
      " 0 0 0 0 0 0 0 1 0 0 1 0 1 0 0 0 0 0 0 0 0 0 1 1 0 0 0 0 0 1 0 0 0 0 0 0 0\n",
      " 0 0 0 0 0 0 0 0 0 0 0 0 1 0 0 0 1 0 0 0 0 0 0 0 0 1 0 0 0 0 0 1 0 0 0]\n"
     ]
    }
   ],
   "source": [
    "from sklearn.naive_bayes import GaussianNB\n",
    "gnb = GaussianNB()\n",
    "gnb.fit(X_train , y_train )\n",
    "y_pred = gnb.predict( x_test )\n",
    "print(y_pred )"
   ]
  },
  {
   "cell_type": "code",
   "execution_count": null,
   "id": "2cfb63b2",
   "metadata": {},
   "outputs": [],
   "source": [
    "x_y = []\n",
    "x_N = []\n",
    "for i in range(len(x_test)):\n",
    "    if y_pred[i] == 1:\n",
    "        x_y.append(x_test.iloc[i,:])\n",
    "    elif  y_pred[i] == 0:\n",
    "        x_N.append(x_test.iloc[i,:])\n",
    "x_y = np.array(x_y)\n",
    "x_N = np.array(x_N)"
   ]
  },
  {
   "cell_type": "code",
   "execution_count": null,
   "id": "b5467d52",
   "metadata": {},
   "outputs": [
    {
     "data": {
      "image/png": "[encoded data removed]",
      "text/plain": [
       "<Figure size 640x480 with 1 Axes>"
      ]
     },
     "metadata": {},
     "output_type": "display_data"
    }
   ],
   "source": [
    "plt.scatter(x_y[:,1], y_test[y_pred == 1], s = 100, c = 'red', label = 'Yes')\n",
    "plt.scatter(x_N[:,1], y_test[y_pred == 0],s = 100, c = 'blue', label = 'No')\n",
    "plt.legend()\n",
    "plt.show()"
   ]
  },
  {
   "cell_type": "code",
   "execution_count": null,
   "id": "e029a64d",
   "metadata": {},
   "outputs": [
    {
     "name": "stdout",
     "output_type": "stream",
     "text": [
      "The accuracy of naive Bayes: 96.64 %\n"
     ]
    }
   ],
   "source": [
    "print (\"The accuracy of naive Bayes:\", round(metrics.accuracy_score ( y_test , y_pred )*100,2),\"%\", sep=\" \" )"
   ]
  },
  {
   "cell_type": "code",
   "execution_count": null,
   "id": "8f851cdb",
   "metadata": {},
   "outputs": [
    {
     "data": {
      "image/png": "[encoded data removed]",
      "text/plain": [
       "<Figure size 640x480 with 2 Axes>"
      ]
     },
     "metadata": {},
     "output_type": "display_data"
    }
   ],
   "source": [
    "cm = confusion_matrix( y_test , y_pred)\n",
    "disp = ConfusionMatrixDisplay(confusion_matrix=cm, display_labels=[\"positive\", \"negative\"])\n",
    "disp.plot()\n",
    "plt.title(\"Confusion matrix of Naive Bayes\")\n",
    "plt.show()"
   ]
  },
  {
   "cell_type": "code",
   "execution_count": null,
   "id": "09f76aa4",
   "metadata": {},
   "outputs": [],
   "source": []
  }
 ],
 "metadata": {
  "kernelspec": {
   "display_name": "Python 3 (ipykernel)",
   "language": "python",
   "name": "python3"
  },
  "language_info": {
   "codemirror_mode": {
    "name": "ipython",
    "version": 3
   },
   "file_extension": ".py",
   "mimetype": "text/x-python",
   "name": "python",
   "nbconvert_exporter": "python",
   "pygments_lexer": "ipython3",
   "version": "3.9.13"
  }
 },
 "nbformat": 4,
 "nbformat_minor": 5
}
